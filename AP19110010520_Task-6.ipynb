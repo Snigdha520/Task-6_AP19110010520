{
 "cells": [
  {
   "cell_type": "markdown",
   "id": "8a4ee4dc",
   "metadata": {},
   "source": [
    "### #Write a pattern to display 4 digit numbers from the list1\n",
    "\n",
    "list1 = [1485, 9192300000, 476235, 4283, 475, 7978]"
   ]
  },
  {
   "cell_type": "code",
   "execution_count": 1,
   "id": "2d3cc0d8",
   "metadata": {},
   "outputs": [],
   "source": [
    "import re"
   ]
  },
  {
   "cell_type": "code",
   "execution_count": 3,
   "id": "67c96f50",
   "metadata": {},
   "outputs": [
    {
     "name": "stdout",
     "output_type": "stream",
     "text": [
      "1236\n",
      "7070\n",
      "9696\n",
      "3100\n"
     ]
    }
   ],
   "source": [
    "list1 = ['1236', '9293910000', '261524', '7070', '004', '9696', '442432273821', '6', '3100']\n",
    "for i in list1:\n",
    "    if re.findall('^[0-9]{4}$', i):\n",
    "        print(i)"
   ]
  },
  {
   "cell_type": "markdown",
   "id": "406daa57",
   "metadata": {},
   "source": [
    "### #Validate a phone number using patterns.\n",
    "\n",
    "ph_list = [9876543210, 8123456789, 7890123456, 789654, 1234567890]"
   ]
  },
  {
   "cell_type": "code",
   "execution_count": 4,
   "id": "9ac282b1",
   "metadata": {},
   "outputs": [
    {
     "name": "stdout",
     "output_type": "stream",
     "text": [
      "9293910000\n",
      "9080305010\n",
      "8383839999\n"
     ]
    }
   ],
   "source": [
    "ph_list = ['9293910000', '9080305010', '8383839999', '456987', '1234567890']\n",
    "for i in ph_list:\n",
    "    if re.findall('[6-9]{1}[0-9]{9}$', i):\n",
    "        print(i)\n"
   ]
  }
 ],
 "metadata": {
  "kernelspec": {
   "display_name": "Python 3",
   "language": "python",
   "name": "python3"
  },
  "language_info": {
   "codemirror_mode": {
    "name": "ipython",
    "version": 3
   },
   "file_extension": ".py",
   "mimetype": "text/x-python",
   "name": "python",
   "nbconvert_exporter": "python",
   "pygments_lexer": "ipython3",
   "version": "3.8.8"
  }
 },
 "nbformat": 4,
 "nbformat_minor": 5
}
